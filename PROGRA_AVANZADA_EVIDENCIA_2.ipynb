{
  "nbformat": 4,
  "nbformat_minor": 0,
  "metadata": {
    "colab": {
      "provenance": [],
      "authorship_tag": "ABX9TyNTaL/nJTZVEUQvgJqRsHS6",
      "include_colab_link": true
    },
    "kernelspec": {
      "name": "python3",
      "display_name": "Python 3"
    },
    "language_info": {
      "name": "python"
    }
  },
  "cells": [
    {
      "cell_type": "markdown",
      "metadata": {
        "id": "view-in-github",
        "colab_type": "text"
      },
      "source": [
        "<a href=\"https://colab.research.google.com/github/allisonhdz/EVI2.1-PROGRA-AVANZADA/blob/main/PROGRA_AVANZADA_EVIDENCIA_2.ipynb\" target=\"_parent\"><img src=\"https://colab.research.google.com/assets/colab-badge.svg\" alt=\"Open In Colab\"/></a>"
      ]
    },
    {
      "cell_type": "code",
      "source": [
        "# PRIMER CODIGO\n",
        "class Persona:\n",
        "\n",
        "    def inicializar(self,nom):\n",
        "        self.nombre=nom\n",
        "\n",
        "    def imprimir(self):\n",
        "        print(\"Nombre\",self.nombre)\n",
        "\n",
        "\n",
        "# bloque principal\n",
        "\n",
        "persona1=Persona()\n",
        "persona1.inicializar(\"Perla\")\n",
        "persona1.imprimir()\n",
        "\n",
        "persona2=Persona()\n",
        "persona2.inicializar(\"Javier\")\n",
        "persona2.imprimir()"
      ],
      "metadata": {
        "colab": {
          "base_uri": "https://localhost:8080/"
        },
        "id": "u1WVq5hpGivi",
        "outputId": "624e8bf2-f5fc-48af-e2da-cf967d04ae75"
      },
      "execution_count": null,
      "outputs": [
        {
          "output_type": "stream",
          "name": "stdout",
          "text": [
            "Nombre Perla\n",
            "Nombre Javier\n"
          ]
        }
      ]
    },
    {
      "cell_type": "code",
      "source": [
        "#SEGUNDO CODIGO\n",
        "class Alumno:\n",
        "\n",
        "    def inicializar(self,nombre,nota):\n",
        "        self.nombre=nombre\n",
        "        self.nota=nota\n",
        "\n",
        "    def imprimir(self):\n",
        "        print(\"Nombre:\",self.nombre)\n",
        "        print(\"Nota:\",self.nota)\n",
        "\n",
        "    def mostrar_estado(self):\n",
        "        if self.nota>=4:\n",
        "            print(\"Regular\")\n",
        "        else:\n",
        "            print(\"Libre\")\n",
        "\n",
        "\n",
        "# bloque principal\n",
        "\n",
        "alumno1=Alumno()\n",
        "alumno1.inicializar(\"Anna\",3)\n",
        "alumno1.imprimir()\n",
        "alumno1.mostrar_estado()\n",
        "\n",
        "alumno2=Alumno()\n",
        "alumno2.inicializar(\"Edith\",8)\n",
        "alumno2.imprimir()\n",
        "alumno2.mostrar_estado()"
      ],
      "metadata": {
        "colab": {
          "base_uri": "https://localhost:8080/"
        },
        "id": "guZfV2upGoJB",
        "outputId": "3576d485-c99c-4895-8238-2ce04b28dd62"
      },
      "execution_count": null,
      "outputs": [
        {
          "output_type": "stream",
          "name": "stdout",
          "text": [
            "Nombre: Anna\n",
            "Nota: 3\n",
            "Libre\n",
            "Nombre: Edith\n",
            "Nota: 8\n",
            "Regular\n"
          ]
        }
      ]
    },
    {
      "cell_type": "code",
      "source": [
        "#TERCER CODIGO\n",
        "class Persona:\n",
        "\n",
        "    def inicializar(self,nombre,edad):\n",
        "        self.nombre=nombre\n",
        "        self.edad=edad\n",
        "\n",
        "    def imprimir(self):\n",
        "        print(\"Nombre\",self.nombre)\n",
        "        print(\"Edad\",self.edad)\n",
        "\n",
        "    def mayor_edad(self):\n",
        "        if self.edad>=18:\n",
        "            print(\"Es mayor de edad\")\n",
        "        else:\n",
        "            print(\"No es mayor de edad\")\n",
        "\n",
        "\n",
        "# bloque principal\n",
        "\n",
        "persona1=Persona()\n",
        "persona1.inicializar(\"Alexis\",17)\n",
        "persona1.imprimir()\n",
        "persona1.mayor_edad()"
      ],
      "metadata": {
        "colab": {
          "base_uri": "https://localhost:8080/"
        },
        "id": "odbO0suAGq1a",
        "outputId": "92e2513b-0963-43c8-da34-90d012af68e2"
      },
      "execution_count": null,
      "outputs": [
        {
          "output_type": "stream",
          "name": "stdout",
          "text": [
            "Nombre Alexis\n",
            "Edad 17\n",
            "No es mayor de edad\n"
          ]
        }
      ]
    },
    {
      "cell_type": "code",
      "source": [
        "#CUARTO CODIGO\n",
        "class Triangulo:\n",
        "\n",
        "    def inicializar(self):\n",
        "        self.lado1=int(input(\"Ingrese primer lado:\"))\n",
        "        self.lado2=int(input(\"Ingrese segundo lado:\"))\n",
        "        self.lado3=int(input(\"Ingrese tercer lado:\"))\n",
        "\n",
        "    def imprimir(self):\n",
        "        print(\"Valores de los lados del triangulo\")\n",
        "        print(\"Lado 1\",self.lado1)\n",
        "        print(\"Lado 2\",self.lado2)\n",
        "        print(\"Lado 3\",self.lado3)\n",
        "\n",
        "    def lado_mayor(self):\n",
        "        print(\"Lado mayor\")\n",
        "        if self.lado1>self.lado2 and self.lado1>self.lado3:\n",
        "            print(self.lado1)\n",
        "        else:\n",
        "            if self.lado2>self.lado3:\n",
        "                print(self.lado2)\n",
        "            else:\n",
        "                print(self.lado3)\n",
        "\n",
        "    def es_equilatero(self):\n",
        "        if self.lado1==self.lado2 and self.lado1==self.lado3:\n",
        "            print(\"El triangulo es equilatero\")\n",
        "        else:\n",
        "            print(\"El triangulo no es equilatero\")\n",
        "\n",
        "\n",
        "# bloque principal\n",
        "\n",
        "triangulo1=Triangulo()\n",
        "triangulo1.inicializar()\n",
        "triangulo1.imprimir()\n",
        "triangulo1.lado_mayor()\n",
        "triangulo1.es_equilatero()"
      ],
      "metadata": {
        "colab": {
          "base_uri": "https://localhost:8080/"
        },
        "id": "GLgG4K06Gt_m",
        "outputId": "ed2c09a8-bd4b-4083-b883-67ffb6a5b33a"
      },
      "execution_count": null,
      "outputs": [
        {
          "output_type": "stream",
          "name": "stdout",
          "text": [
            "Ingrese primer lado:5\n",
            "Ingrese segundo lado:10\n",
            "Ingrese tercer lado:9\n",
            "Valores de los lados del triangulo\n",
            "Lado 1 5\n",
            "Lado 2 10\n",
            "Lado 3 9\n",
            "Lado mayor\n",
            "10\n",
            "El triangulo no es equilatero\n"
          ]
        }
      ]
    }
  ]
}