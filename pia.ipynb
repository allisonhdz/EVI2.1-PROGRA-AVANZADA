{
  "nbformat": 4,
  "nbformat_minor": 0,
  "metadata": {
    "colab": {
      "provenance": [],
      "include_colab_link": true
    },
    "kernelspec": {
      "name": "python3",
      "display_name": "Python 3"
    },
    "language_info": {
      "name": "python"
    }
  },
  "cells": [
    {
      "cell_type": "markdown",
      "metadata": {
        "id": "view-in-github",
        "colab_type": "text"
      },
      "source": [
        "<a href=\"https://colab.research.google.com/github/allisonhdz/EVI2.1-PROGRA-AVANZADA/blob/main/pia.ipynb\" target=\"_parent\"><img src=\"https://colab.research.google.com/assets/colab-badge.svg\" alt=\"Open In Colab\"/></a>"
      ]
    },
    {
      "cell_type": "code",
      "source": [
        "class Tres_programas:\n",
        "    def __init__(self, programa):\n",
        "        self.programa = programa\n",
        "\n",
        "    def ejecutar_programa(self):\n",
        "        if self.programa == 1:\n",
        "            # Programa de descuento en tienda\n",
        "            class Tienda:\n",
        "                def __init__(self):\n",
        "                    self.compra = 0\n",
        "\n",
        "                def obtener_datos_compra(self):\n",
        "                    self.compra = float(input(\"Ingrese el monto o dato de la compra: \"))\n",
        "\n",
        "                def descuento_clientes(self):\n",
        "                    pagar = self.compra\n",
        "                    if self.compra < 500:\n",
        "                        pagar = self.compra\n",
        "                    elif 500 <= self.compra <= 1000:\n",
        "                        pagar = self.compra - (self.compra * 0.05)\n",
        "                    elif 1000 < self.compra <= 7000:\n",
        "                        pagar = self.compra - (self.compra * 0.11)\n",
        "                    elif 7000 < self.compra <= 15000:\n",
        "                        pagar = self.compra - (self.compra * 0.18)\n",
        "                    elif self.compra > 15000:\n",
        "                        pagar = self.compra - (self.compra * 0.25)\n",
        "                    return pagar\n",
        "\n",
        "            tienda = Tienda()\n",
        "            tienda.obtener_datos_compra()\n",
        "            print(\"El total del resultado a pagar es\", tienda.descuento_clientes())\n",
        "\n",
        "        elif self.programa == 2:\n",
        "            # Programa dinosaurio\n",
        "            class Dinosaurio:\n",
        "                def __init__(self):\n",
        "                    self.NOM = \"\"\n",
        "                    self.PES = 0\n",
        "                    self.LON = 0\n",
        "                    self.PESKIL = 0\n",
        "                    self.LONMET = 0\n",
        "\n",
        "                def obtener_datos_dinosaurio(self):\n",
        "                    self.NOM = input(\"Ingrese el nombre del dinosaurio: \")\n",
        "                    self.PES = float(input(\"Ingrese el peso del dinosaurio en libras: \"))\n",
        "                    self.LON = float(input(\"Ingrese la longitud del dinosaurio en pies: \"))\n",
        "                    self.PESKIL = self.PES * 0.45359237  # 1 libra = 0.45359237 kg\n",
        "                    self.LONMET = self.LON * 0.3048  # 1 pie = 0.3048 metros\n",
        "\n",
        "                def dinosaurio(self):\n",
        "                    print(f\"Nombre del dinosaurio: {self.NOM}\")\n",
        "                    print(f\"Peso del dinosaurio (en kg): {self.PESKIL}\")\n",
        "                    print(f\"Longitud del dinosaurio (en m): {self.LONMET}\")\n",
        "\n",
        "            dinosaurio = Dinosaurio()\n",
        "            dinosaurio.obtener_datos_dinosaurio()\n",
        "            dinosaurio.dinosaurio()\n",
        "\n",
        "        elif self.programa == 3:\n",
        "            # Programa gasolinera\n",
        "            class EstacionDeServicio:\n",
        "                def __init__(self):\n",
        "                    self.GAL = 0\n",
        "                    self.TOTAL = 0\n",
        "\n",
        "                def obtener_cantidad_galones(self):\n",
        "                    cantidad_galones_usuario = float(input(\"Ingrese la cantidad de galones: \"))\n",
        "                    self.GAL = cantidad_galones_usuario\n",
        "\n",
        "                def gasolina(self):\n",
        "                    litros = self.GAL * 3.785\n",
        "                    precio_por_litro = 8.20\n",
        "                    self.TOTAL = litros * precio_por_litro\n",
        "                    return self.TOTAL\n",
        "\n",
        "            estacion = EstacionDeServicio()\n",
        "            estacion.obtener_cantidad_galones()\n",
        "            total_a_pagar = estacion.gasolina()\n",
        "            print(f\"El total a pagar por {estacion.GAL} galones es: ${total_a_pagar:.2f}\")\n",
        "\n",
        "\n",
        "programa_a_ejecutar = int(input(\"Ingrese el número del programa a ejecutar (1, 2 o 3): \"))\n",
        "ejecutor = Tres_programas(programa_a_ejecutar)\n",
        "ejecutor.ejecutar_programa()\n"
      ],
      "metadata": {
        "colab": {
          "base_uri": "https://localhost:8080/"
        },
        "id": "ukEx6V--Qw7Q",
        "outputId": "97aa16a0-717e-4d70-f87b-f799cc0737c9"
      },
      "execution_count": 16,
      "outputs": [
        {
          "output_type": "stream",
          "name": "stdout",
          "text": [
            "Ingrese el número del programa a ejecutar (1, 2 o 3): 3\n",
            "Ingrese la cantidad de galones: 15.90\n",
            "El total a pagar por 15.9 galones es: $493.49\n"
          ]
        }
      ]
    },
    {
      "cell_type": "code",
      "source": [],
      "metadata": {
        "id": "ywLOz6jBrqt2"
      },
      "execution_count": null,
      "outputs": []
    },
    {
      "cell_type": "code",
      "source": [
        "#Primer Programa\n",
        "# Programa de descuento en tienda\n",
        "class Tienda:\n",
        "   def __init__(self):\n",
        "       self.compra = 0\n",
        "\n",
        "   def obtener_datos_compra(self):\n",
        "       self.compra = float(input(\"Ingrese el monto o dato de la compra: \"))\n",
        "\n",
        "   def descuento_clientes(self):\n",
        "       pagar = self.compra\n",
        "       if self.compra < 500:\n",
        "          pagar = self.compra\n",
        "       elif 500 <= self.compra <= 1000:\n",
        "            pagar = self.compra - (self.compra * 0.05)\n",
        "       elif 1000 < self.compra <= 7000:\n",
        "            pagar = self.compra - (self.compra * 0.11)\n",
        "       elif 7000 < self.compra <= 15000:\n",
        "            pagar = self.compra - (self.compra * 0.18)\n",
        "       elif self.compra > 15000:\n",
        "            pagar = self.compra - (self.compra * 0.25)\n",
        "       return pagar\n",
        "\n",
        "tienda = Tienda()\n",
        "tienda.obtener_datos_compra()\n",
        "print(\"El total del resultado a pagar es\", tienda.descuento_clientes())\n"
      ],
      "metadata": {
        "colab": {
          "base_uri": "https://localhost:8080/"
        },
        "id": "Bf46wZDB40Sw",
        "outputId": "9271035f-529c-45a8-b4e0-ae38cadec2c1"
      },
      "execution_count": 20,
      "outputs": [
        {
          "output_type": "stream",
          "name": "stdout",
          "text": [
            "Ingrese el monto o dato de la compra: 12350.00\n",
            "El total del resultado a pagar es 10127.0\n"
          ]
        }
      ]
    },
    {
      "cell_type": "code",
      "source": [
        "#Segundo programa\n",
        "class Dinosaurio:\n",
        "    def __init__(self):\n",
        "        self.NOM = \"\"\n",
        "        self.PES = 0\n",
        "        self.LON = 0\n",
        "        self.PESKIL = 0\n",
        "        self.LONMET = 0\n",
        "\n",
        "    def obtener_datos_dinosaurio(self):\n",
        "        self.NOM = input(\"Ingrese el nombre del dinosaurio: \")\n",
        "        self.PES = float(input(\"Ingrese el peso del dinosaurio en libras: \"))\n",
        "        self.LON = float(input(\"Ingrese la longitud del dinosaurio en pies: \"))\n",
        "        self.PESKIL = self.PES * 0.45359237  # 1 libra = 0.45359237 kg\n",
        "        self.LONMET = self.LON * 0.3048  # 1 pie = 0.3048 metros\n",
        "\n",
        "    def dinosaurio(self):\n",
        "        print(f\"Nombre del dinosaurio: {self.NOM}\")\n",
        "        print(f\"Peso del dinosaurio (en kg): {self.PESKIL}\")\n",
        "        print(f\"Longitud del dinosaurio (en m): {self.LONMET}\")\n",
        "\n",
        "dinosaurio = Dinosaurio()\n",
        "dinosaurio.obtener_datos_dinosaurio()\n",
        "dinosaurio.dinosaurio()\n"
      ],
      "metadata": {
        "colab": {
          "base_uri": "https://localhost:8080/"
        },
        "id": "XbXl9fQx-jst",
        "outputId": "1e388c98-40df-4183-8aa1-9d9b8c72d3fe"
      },
      "execution_count": 22,
      "outputs": [
        {
          "output_type": "stream",
          "name": "stdout",
          "text": [
            "Ingrese el nombre del dinosaurio: Brontosaurus\n",
            "Ingrese el peso del dinosaurio en libras: 25\n",
            "Ingrese la longitud del dinosaurio en pies: 70\n",
            "Nombre del dinosaurio: Brontosaurus\n",
            "Peso del dinosaurio (en kg): 11.33980925\n",
            "Longitud del dinosaurio (en m): 21.336000000000002\n"
          ]
        }
      ]
    },
    {
      "cell_type": "code",
      "source": [
        "#Tercer Programa\n",
        "# Programa gasolinera\n",
        "class EstacionDeServicio:\n",
        "      def _init_(self):\n",
        "          self.GAL = 0\n",
        "          self.TOTAL = 0\n",
        "\n",
        "      def obtener_cantidad_galones(self):\n",
        "          cantidad_galones_usuario = float(input(\"Ingrese la cantidad de galones: \"))\n",
        "          self.GAL = cantidad_galones_usuario\n",
        "\n",
        "      def gasolina(self):\n",
        "          litros = self.GAL * 3.785\n",
        "          precio_por_litro = 8.20\n",
        "          self.TOTAL = litros * precio_por_litro\n",
        "          return self.TOTAL\n",
        "\n",
        "estacion = EstacionDeServicio()\n",
        "estacion.obtener_cantidad_galones()\n",
        "total_a_pagar = estacion.gasolina()\n",
        "print(f\"El total a pagar por {estacion.GAL} galones es: ${total_a_pagar:.2f}\")"
      ],
      "metadata": {
        "colab": {
          "base_uri": "https://localhost:8080/"
        },
        "id": "lZmlYjv9_xz4",
        "outputId": "8986e4f4-78a9-4abd-bdbf-c3ac81d80f0e"
      },
      "execution_count": 39,
      "outputs": [
        {
          "output_type": "stream",
          "name": "stdout",
          "text": [
            "Ingrese la cantidad de galones: 15.90\n",
            "El total a pagar por 15.9 galones es: $493.49\n"
          ]
        }
      ]
    },
    {
      "cell_type": "code",
      "source": [
        "class Archivos_texto:\n",
        "    def __init__(self, nombre_archivo):\n",
        "        self.nombre_archivo = nombre_archivo\n",
        "\n",
        "    def crear_archivo(self, contenido):\n",
        "        try:\n",
        "            with open(self.nombre_archivo, 'w') as archivo:\n",
        "                archivo.write(contenido)\n",
        "            return f\"Archivo '{self.nombre_archivo}' creado correctamente.\"\n",
        "        except Exception as e:\n",
        "            return f\"Error al crear el archivo: {str(e)}\"\n",
        "\n",
        "    def escribir_archivo(self, contenido):\n",
        "        try:\n",
        "            with open(self.nombre_archivo, 'a') as archivo:\n",
        "                archivo.write(contenido)\n",
        "            return f\"Contenido agregado al archivo '{self.nombre_archivo}' correctamente.\"\n",
        "        except Exception as e:\n",
        "            return f\"Error al escribir en el archivo: {str(e)}\"\n",
        "\n",
        "    def leer_archivo(self):\n",
        "        try:\n",
        "            with open(self.nombre_archivo, 'r') as archivo:\n",
        "                contenido = archivo.read()\n",
        "            return f\"Contenido del archivo '{self.nombre_archivo}':\\n{contenido}\"\n",
        "        except Exception as e:\n",
        "            return f\"Error al leer el archivo: {str(e)}\"\n",
        "\n",
        "\n",
        "nombre_del_archivo = \"ejemplo1.txt\"\n",
        "manejo_archivos = Archivos_texto(nombre_del_archivo)\n",
        "\n",
        "# Crear archivo\n",
        "resultado_creacion = manejo_archivos.crear_archivo(\"Hola, este es un archivo de basado de ejemplo.\\n\")\n",
        "\n",
        "resultado_escritura = manejo_archivos.escribir_archivo(\"Añadiendo más contenido al archivo.\\n\")\n",
        "\n",
        "resultado_lectura = manejo_archivos.leer_archivo()\n",
        "\n",
        "print(resultado_creacion)\n",
        "print(resultado_escritura)\n",
        "print(resultado_lectura)"
      ],
      "metadata": {
        "id": "KGU8RX8mzXof",
        "outputId": "4af67f72-c575-47cb-b31b-e328f47926c1",
        "colab": {
          "base_uri": "https://localhost:8080/"
        }
      },
      "execution_count": 42,
      "outputs": [
        {
          "output_type": "stream",
          "name": "stdout",
          "text": [
            "Archivo 'ejemplo1.txt' creado correctamente.\n",
            "Contenido agregado al archivo 'ejemplo1.txt' correctamente.\n",
            "Contenido del archivo 'ejemplo1.txt':\n",
            "Hola, este es un archivo de basado de ejemplo.\n",
            "Añadiendo más contenido al archivo.\n",
            "\n"
          ]
        }
      ]
    }
  ]
}